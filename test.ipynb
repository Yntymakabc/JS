{
 "cells": [
  {
   "cell_type": "code",
   "execution_count": 1,
   "id": "4bce7594",
   "metadata": {},
   "outputs": [
    {
     "name": "stdout",
     "output_type": "stream",
     "text": [
      "helo\n"
     ]
    }
   ],
   "source": [
    "print(\"helo\")\n"
   ]
  },
  {
   "cell_type": "code",
   "execution_count": 12,
   "id": "4d55912e",
   "metadata": {},
   "outputs": [
    {
     "name": "stdout",
     "output_type": "stream",
     "text": [
      "Response: {'username': 'aibek', 'email': 'lkjlkrddjlkj@gmail.com'}\n"
     ]
    }
   ],
   "source": [
    "import requests\n",
    "\n",
    "url = \"http://127.0.0.1:8000/register\"\n",
    "\n",
    "# Data to send in the POST request\n",
    "data = {\n",
    "    \"username\": \"aibek\",\n",
    "    \"email\": \"lkjlkrddjlkj@gmail.com\",\n",
    "    \"password\": \"qwe\"\n",
    "}\n",
    "\n",
    "# Sending the POST request\n",
    "response = requests.post(url, json=data)\n",
    "\n",
    "# Print the response status code and content\n",
    "\n",
    "print(\"Response:\", response.json() if response.status_code == 200 else response.text)"
   ]
  },
  {
   "cell_type": "code",
   "execution_count": 7,
   "id": "dbfcdaa1",
   "metadata": {},
   "outputs": [
    {
     "name": "stdout",
     "output_type": "stream",
     "text": [
      "Response: Internal Server Error\n"
     ]
    }
   ],
   "source": [
    "import requests\n",
    "\n",
    "url = \"http://127.0.0.1:8000/login\"\n",
    "\n",
    "# Data to send in the POST request\n",
    "data = {\n",
    "    \"username\": \"aku\",\n",
    "    \"password\": \"3522\"\n",
    "}\n",
    "\n",
    "# Sending the POST request\n",
    "response = requests.post(url, json=data)\n",
    "\n",
    "# Print the response status code and content\n",
    "print(\"Response:\", response.json() if response.status_code == 200 else response.text)"
   ]
  },
  {
   "cell_type": "code",
   "execution_count": 15,
   "id": "fda4efde",
   "metadata": {},
   "outputs": [
    {
     "name": "stdout",
     "output_type": "stream",
     "text": [
      "Search successful!\n",
      "[{'id': 3, 'username': 'aibek'}]\n"
     ]
    }
   ],
   "source": [
    "import requests\n",
    "\n",
    "url = \"http://127.0.0.1:8000/search_users\"\n",
    "\n",
    "# Query parameter to send in the GET request\n",
    "params = {\n",
    "    \"query\": \"ai\"  # Replace with the username or part of the username you want to search for\n",
    "}\n",
    "\n",
    "# Sending the GET request\n",
    "response = requests.get(url, params=params)\n",
    "\n",
    "# Print the response\n",
    "if response.status_code == 200:\n",
    "    print(\"Search successful!\")\n",
    "    print(response.json())  # Print the list of matching users\n",
    "else:\n",
    "    print(\"Search failed!\")\n",
    "    print(response.json())  # Print the error details"
   ]
  },
  {
   "cell_type": "code",
   "execution_count": 16,
   "id": "153764a1",
   "metadata": {},
   "outputs": [
    {
     "name": "stdout",
     "output_type": "stream",
     "text": [
      "All users: [{'id': 1, 'username': 'ljlkrjlkjl', 'email': 'lkjlkrjlkj@gmail.com'}, {'id': 2, 'username': 'yntymak', 'email': 'yntymak.almazbekuulu1@gmail.com'}, {'id': 3, 'username': 'aibek', 'email': 'lkjlkrddjlkj@gmail.com'}]\n"
     ]
    }
   ],
   "source": [
    "import requests\n",
    "\n",
    "url = \"http://127.0.0.1:8000/users\"\n",
    "\n",
    "response = requests.get(url)\n",
    "\n",
    "if response.status_code == 200:\n",
    "    print(\"All users:\", response.json())\n",
    "else:\n",
    "    print(\"Error:\", response.json())"
   ]
  },
  {
   "cell_type": "code",
   "execution_count": null,
   "id": "0b0a2a97",
   "metadata": {},
   "outputs": [],
   "source": []
  }
 ],
 "metadata": {
  "kernelspec": {
   "display_name": "Python 3",
   "language": "python",
   "name": "python3"
  },
  "language_info": {
   "codemirror_mode": {
    "name": "ipython",
    "version": 3
   },
   "file_extension": ".py",
   "mimetype": "text/x-python",
   "name": "python",
   "nbconvert_exporter": "python",
   "pygments_lexer": "ipython3",
   "version": "3.13.2"
  }
 },
 "nbformat": 4,
 "nbformat_minor": 5
}
